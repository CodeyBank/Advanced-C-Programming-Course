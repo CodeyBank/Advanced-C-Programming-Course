{
  "nbformat": 4,
  "nbformat_minor": 0,
  "metadata": {
    "colab": {
      "provenance": [],
      "authorship_tag": "ABX9TyMsZ6GVmz6tff9gR+MRVol/",
      "include_colab_link": true
    },
    "kernelspec": {
      "name": "python3",
      "display_name": "Python 3"
    },
    "language_info": {
      "name": "python"
    }
  },
  "cells": [
    {
      "cell_type": "markdown",
      "metadata": {
        "id": "view-in-github",
        "colab_type": "text"
      },
      "source": [
        "<a href=\"https://colab.research.google.com/github/CodeyBank/Advanced-C-Programming-Course/blob/master/DA.ipynb\" target=\"_parent\"><img src=\"https://colab.research.google.com/assets/colab-badge.svg\" alt=\"Open In Colab\"/></a>"
      ]
    },
    {
      "cell_type": "code",
      "execution_count": null,
      "metadata": {
        "colab": {
          "base_uri": "https://localhost:8080/"
        },
        "id": "aPRC1pijnv2Q",
        "outputId": "1fcc9eca-31db-48c8-ca84-af696facc354"
      },
      "outputs": [
        {
          "output_type": "stream",
          "name": "stdout",
          "text": [
            "Total area of water collected: 4\n"
          ]
        }
      ],
      "source": [
        "def trap_water(height):\n",
        "  \"\"\"Calculates the total area of water trapped in a landscape.\n",
        "\n",
        "  Args:\n",
        "      height: A list of integers representing the elevation at each point.\n",
        "\n",
        "  Returns:\n",
        "      The total area of water trapped.\n",
        "  \"\"\"\n",
        "  n = len(height)\n",
        "  left_max = [0] * n\n",
        "  right_max = [0] * n\n",
        "\n",
        "  # Find the highest elevation to the left of each point\n",
        "  left_max[0] = height[0]\n",
        "  for i in range(1, n):\n",
        "    left_max[i] = max(left_max[i - 1], height[i])\n",
        "\n",
        "  # Find the highest elevation to the right of each point\n",
        "  right_max[n - 1] = height[n - 1]\n",
        "  for i in range(n - 2, -1, -1):\n",
        "    right_max[i] = max(right_max[i + 1], height[i])\n",
        "\n",
        "  # Calculate the water trapped at each point\n",
        "  water = 0\n",
        "  for i in range(n):\n",
        "    water += min(left_max[i], right_max[i]) - height[i]\n",
        "\n",
        "  return water\n",
        "\n",
        "\n",
        "height = [1, 2, 3, 1, 2, 4, 1, 2, 1]\n",
        "total_water = trap_water(height)\n",
        "print(f\"Total area of water collected: {total_water}\")"
      ]
    },
    {
      "cell_type": "code",
      "source": [
        "def trapped_water(heights):\n",
        "    total_water = 0\n",
        "    left, right = 0, len(heights) - 1\n",
        "    left_max, right_max = 0, 0\n",
        "\n",
        "    while left < right:\n",
        "        if heights[left] < heights[right]:\n",
        "            left_max = max(left_max, heights[left])\n",
        "            total_water += left_max - heights[left]\n",
        "            left += 1\n",
        "        else:\n",
        "            right_max = max(right_max, heights[right])\n",
        "            total_water += right_max - heights[right]\n",
        "            right -= 1\n",
        "\n",
        "    return total_water\n",
        "\n",
        "\n",
        "height = [1, 2, 3, 1, 2, 4, 1, 2, 1]\n",
        "total_water = trapped_water(height)\n",
        "print(f\"Total area of water collected: {total_water}\")"
      ],
      "metadata": {
        "colab": {
          "base_uri": "https://localhost:8080/"
        },
        "id": "YNC_ci9SvESO",
        "outputId": "957a8333-1847-480f-9fee-28cc0a553980"
      },
      "execution_count": null,
      "outputs": [
        {
          "output_type": "stream",
          "name": "stdout",
          "text": [
            "Total area of water collected: 4\n"
          ]
        }
      ]
    },
    {
      "cell_type": "code",
      "source": [
        "def trapped_water(heights):\n",
        "    n = len(heights)\n",
        "    left_max = [0] * n\n",
        "    right_max = [0] * n\n",
        "\n",
        "    # Precompute left and right maximums\n",
        "    left_max[0] = heights[0]\n",
        "    for i in range(1, n):\n",
        "        left_max[i] = max(left_max[i - 1], heights[i])\n",
        "\n",
        "    right_max[n - 1] = heights[n - 1]\n",
        "    for i in range(n - 2, -1, -1):\n",
        "        right_max[i] = max(right_max[i + 1], heights[i])\n",
        "\n",
        "    # Calculate water trapped\n",
        "    total_water = 0\n",
        "    for i in range(n):\n",
        "        total_water += min(left_max[i], right_max[i]) - heights[i]\n",
        "\n",
        "    return total_water\n",
        "\n",
        "# Example Usage\n",
        "landscape = [1, 2, 3, 4, 5, 1, 2, 4, 2, 1, 2]\n",
        "water_trapped = trapped_water(landscape)\n",
        "print(\"Total Area of Trapped Water:\", water_trapped)"
      ],
      "metadata": {
        "colab": {
          "base_uri": "https://localhost:8080/"
        },
        "id": "Q3lypr6KzSuK",
        "outputId": "7a7d9e19-dfb5-478e-8c30-d2e50dd5a560"
      },
      "execution_count": null,
      "outputs": [
        {
          "output_type": "stream",
          "name": "stdout",
          "text": [
            "Total Area of Trapped Water: 6\n"
          ]
        }
      ]
    },
    {
      "cell_type": "code",
      "source": [
        "def trapped_water(heights):\n",
        "    n = len(heights)\n",
        "    left_max = [0] * n\n",
        "    right_max = [0] * n\n",
        "\n",
        "    left_max[0] = heights[0]\n",
        "    for i in range(1, n):\n",
        "        left_max[i] = max(left_max[i - 1], heights[i])\n",
        "\n",
        "    right_max[n - 1] = heights[n - 1]\n",
        "    for i in range(n - 2, -1, -1):\n",
        "        right_max[i] = max(right_max[i + 1], heights[i])\n",
        "\n",
        "    water = 0\n",
        "    for i in range(n):\n",
        "        water += min(left_max[i], right_max[i]) - heights[i]\n",
        "\n",
        "    return water\n",
        "\n",
        "# Example Usage\n",
        "landscape = [1, 2, 3, 4, 5, 1, 2, 4, 2, 1, 2]\n",
        "water_trapped = trapped_water(landscape)\n",
        "print(\"Total Area of Trapped Water:\", water_trapped)"
      ],
      "metadata": {
        "colab": {
          "base_uri": "https://localhost:8080/"
        },
        "id": "jPGdBbrpzLzT",
        "outputId": "6befbc81-a783-457d-b7bb-c19e2a38a854"
      },
      "execution_count": null,
      "outputs": [
        {
          "output_type": "stream",
          "name": "stdout",
          "text": [
            "Total Area of Trapped Water: 6\n"
          ]
        }
      ]
    },
    {
      "cell_type": "code",
      "source": [
        "class ListNode:\n",
        "    def __init__(self, val=0, next=None):\n",
        "        self.val = val\n",
        "        self.next = next\n",
        "\n",
        "class Solution:\n",
        "    def addTwoNumbers(self, l1: ListNode, l2: ListNode) -> ListNode:\n",
        "        dummy = head = ListNode(0)  # Create a dummy node to start building the result\n",
        "        carry = 0                   # Initialize a carry variable\n",
        "\n",
        "        while l1 or l2 or carry:    # Loop while either list has nodes or a carry exists\n",
        "            val1 = l1.val if l1 else 0  # Get value from l1, or 0 if l1 is None\n",
        "            val2 = l2.val if l2 else 0  # Get value from l2, or 0 if l2 is None\n",
        "\n",
        "            sum_val = val1 + val2 + carry  # Calculate the sum with the carry\n",
        "            carry = sum_val // 10          # Determine the new carry (1 if sum >= 10)\n",
        "\n",
        "            head.next = ListNode(sum_val % 10)  # Create a node with the units digit of the sum\n",
        "            head = head.next                    # Move to the next node for the next calculation\n",
        "\n",
        "            l1 = l1.next if l1 else None  # Move to the next node in l1\n",
        "            l2 = l2.next if l2 else None  # Move to the next node in l2\n",
        "\n",
        "        return dummy.next  # Return the actual head of the result list\n",
        "\n",
        "\n",
        "l1 = ListNode(3)\n",
        "l1.next = ListNode(4)\n",
        "l1.next.next = ListNode(5)\n",
        "\n",
        "l2 = ListNode(5)\n",
        "l2.next = ListNode(9)\n",
        "l2.next.next = ListNode(8)\n",
        "\n",
        "solution = Solution()\n",
        "result = solution.addTwoNumbers(l1, l2)\n",
        "\n",
        "while result:\n",
        "  print(result.val, end=\" -> \")\n",
        "  result = result.next\n",
        "print(\"None\")"
      ],
      "metadata": {
        "colab": {
          "base_uri": "https://localhost:8080/"
        },
        "id": "rZxOiVlWmyEt",
        "outputId": "2a613337-8fc3-4fe5-966a-a9cf2799319e"
      },
      "execution_count": 3,
      "outputs": [
        {
          "output_type": "stream",
          "name": "stdout",
          "text": [
            "8 -> 3 -> 4 -> 1 -> None\n"
          ]
        }
      ]
    },
    {
      "cell_type": "code",
      "source": [
        "class Node:\n",
        "    def __init__(self, data):\n",
        "        self.data = data\n",
        "        self.next = None\n",
        "        self.length = 0\n",
        "\n",
        "\n",
        "def add_two_numbers(l1, l2):\n",
        "    \"\"\"Adds two numbers represented by linked lists and returns the sum as a linked list.\n",
        "\n",
        "    Args:\n",
        "        l1: The head of the first linked list.\n",
        "        l2: The head of the second linked list.\n",
        "\n",
        "    Returns:\n",
        "        The head of the linked list representing the sum.\n",
        "    \"\"\"\n",
        "\n",
        "    result = Node(0)  # Create a dummy head node for easier handling\n",
        "    result_tail = result\n",
        "    carry = 0\n",
        "\n",
        "    # Iterate through both lists until we've processed all digits\n",
        "    while l1 or l2 or carry:\n",
        "        val1 = l1.data if l1 else 0  # Get the digit from l1 (or 0 if end of list)\n",
        "        val2 = l2.data if l2 else 0  # Get the digit from l2 (or 0 if end of list)\n",
        "\n",
        "        sum_of_digits = val1 + val2 + carry\n",
        "        carry = sum_of_digits // 10  # Calculate the carry-over for the next digit\n",
        "        digit = sum_of_digits % 10   # Extract the current digit\n",
        "\n",
        "        # Create a new node for the calculated digit\n",
        "        result_tail.next = Node(digit)\n",
        "        result_tail = result_tail.next\n",
        "\n",
        "        l1 = l1.next if l1 else None\n",
        "        l2 = l2.next if l2 else None\n",
        "\n",
        "    return result.next  # Return the actual head of the result list\n",
        "\n",
        "\n",
        "    # Create linked lists\n",
        "l1 = Node(3)\n",
        "l1.next = Node(1)\n",
        "l1.next.next = Node(9)\n",
        "\n",
        "l2 = Node(5)\n",
        "l2.next = Node(9)\n",
        "l2.next.next = Node(2)\n",
        "\n",
        "# Call the function\n",
        "result_list = add_two_numbers(l1, l2)\n",
        "\n",
        "# Print the result\n",
        "while result_list:\n",
        "    print(result_list.data, end=\" -> \")\n",
        "    result_list = result_list.next\n",
        "print(\"None\")  # To indicate the end of the list"
      ],
      "metadata": {
        "colab": {
          "base_uri": "https://localhost:8080/"
        },
        "id": "U8-c7EqMp3SA",
        "outputId": "d5a946e4-2039-4c9b-e92e-e6fcf9d482ad"
      },
      "execution_count": 5,
      "outputs": [
        {
          "output_type": "stream",
          "name": "stdout",
          "text": [
            "8 -> 0 -> 2 -> 1 -> None\n"
          ]
        }
      ]
    },
    {
      "cell_type": "code",
      "source": [
        "def delete_middle(head):\n",
        "    if head is None or head.next is None:\n",
        "         return None\n",
        "\n",
        "    length = head.length  # Assuming the list keeps track of its length\n",
        "    middle_index = length // 2 if length % 2 else (length // 2) - 1\n",
        "\n",
        "    current = head\n",
        "    prev = None\n",
        "    node_index = 0\n",
        "\n",
        "    while current:\n",
        "        if node_index == middle_index:\n",
        "            prev.next = current.next\n",
        "            break\n",
        "        prev = current\n",
        "        current = current.next\n",
        "        node_index += 1\n",
        "\n",
        "    return head\n",
        "\n",
        "head = Node(1)\n",
        "head.next = Node(2)\n",
        "head.next.next = Node(3)\n",
        "head.next.next.next = Node(4)\n",
        "\n",
        "# Delete the middle\n",
        "head = delete_middle(head)\n",
        "\n",
        "# Print the modified LinkedList\n",
        "current = head\n",
        "while current:\n",
        "    print(current.data, end=\" \")\n",
        "    current = current.next"
      ],
      "metadata": {
        "colab": {
          "base_uri": "https://localhost:8080/"
        },
        "id": "zrHPci-_xvQr",
        "outputId": "e49c4579-eb7a-4bfd-8d01-3c29ade00815"
      },
      "execution_count": 6,
      "outputs": [
        {
          "output_type": "stream",
          "name": "stdout",
          "text": [
            "1 2 4 "
          ]
        }
      ]
    },
    {
      "cell_type": "code",
      "source": [
        "class Node:\n",
        "    def __init__(self, data):\n",
        "        self.data = data\n",
        "        self.next = None\n",
        "\n",
        "\n",
        "class LinkedList:\n",
        "    def __init__(self):\n",
        "        self.head = None\n",
        "        self.length=0\n",
        "\n",
        "    # ... other linked list methods ...\n",
        "\n",
        "    def insert(self, value):\n",
        "      if self.length == 0:\n",
        "        self.head = Node(value)\n",
        "        self.length +=1\n",
        "        return\n",
        "\n",
        "      temp = self.head\n",
        "\n",
        "      while(temp.next != None):\n",
        "        temp = temp.next\n",
        "\n",
        "      temp.next = Node(value)\n",
        "      self.length +=1\n",
        "      return\n",
        "\n",
        "    def print(self):\n",
        "        temp = self.head\n",
        "\n",
        "        while(temp != None):\n",
        "          print(temp.data, end=\" -> \")\n",
        "          temp = temp.next\n",
        "\n",
        "\n",
        "    def delete_middle2(self):\n",
        "        \"\"\"Deletes the middle node of a linked list.\"\"\"\n",
        "        if self.head is None:  # Empty list\n",
        "            return\n",
        "        if self.head.next is None:  # Single node\n",
        "            self.head = None\n",
        "            return\n",
        "\n",
        "        # Use two pointers: slow and fast\n",
        "        slow_ptr = self.head\n",
        "        fast_ptr = self.head\n",
        "\n",
        "        prev = None  # Keep track of the node before the middle\n",
        "\n",
        "        while fast_ptr and fast_ptr.next:\n",
        "            prev = slow_ptr\n",
        "            slow_ptr = slow_ptr.next\n",
        "            fast_ptr = fast_ptr.next.next  # Move twice as fast\n",
        "\n",
        "        # Slow pointer is now at the middle node\n",
        "        prev.next = slow_ptr.next  # Remove the middle node\n",
        "\n",
        "    def delete_middle(self):\n",
        "        if self.length <= 1:  # Handle empty or single-node list\n",
        "             return None\n",
        "\n",
        "        middle_index = self.length // 2  # Integer division for index\n",
        "\n",
        "        current_node = self.head\n",
        "        current_index = 0\n",
        "\n",
        "        while current_index < middle_index:\n",
        "            current_node = current_node.next\n",
        "            current_index += 1\n",
        "\n",
        "        # Delete the middle node\n",
        "        current_node.next = current_node.next.next\n",
        "        self.length -= 1\n",
        "\n",
        "        # return self.head\n",
        "\n",
        "\n",
        "    def delete_middle3(self):\n",
        "      if head is None or head.next is None:\n",
        "         return None\n",
        "\n",
        "      length = self.length  # Assuming the list keeps track of its length\n",
        "      middle_index = self.length // 2 if length % 2 else (length // 2) - 1\n",
        "\n",
        "      current = self.head\n",
        "      prev = None\n",
        "      node_index = 0\n",
        "\n",
        "      while current:\n",
        "          if node_index == middle_index:\n",
        "              prev.next = current.next\n",
        "              break\n",
        "          prev = current\n",
        "          current = current.next\n",
        "          node_index += 1\n",
        "\n",
        "L = LinkedList()\n",
        "\n",
        "L.insert(1)\n",
        "L.insert(2)\n",
        "L.insert(3)\n",
        "L.insert(4)\n",
        "L.insert(5)\n",
        "\n",
        "L.print()\n",
        "L.delete_middle3()\n",
        "print()\n",
        "L.print()\n"
      ],
      "metadata": {
        "colab": {
          "base_uri": "https://localhost:8080/"
        },
        "id": "PJRN0fzRzWMa",
        "outputId": "c4d31970-7c3c-40a7-8576-a7775fd7af50"
      },
      "execution_count": 21,
      "outputs": [
        {
          "output_type": "stream",
          "name": "stdout",
          "text": [
            "1 -> 2 -> 3 -> 4 -> 5 -> \n",
            "1 -> 2 -> 4 -> 5 -> "
          ]
        }
      ]
    },
    {
      "cell_type": "code",
      "source": [],
      "metadata": {
        "id": "bTgM8q1_7U6r"
      },
      "execution_count": null,
      "outputs": []
    }
  ]
}